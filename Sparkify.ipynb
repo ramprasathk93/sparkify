{
 "cells": [
  {
   "cell_type": "markdown",
   "metadata": {},
   "source": [
    "# Sparkify Project Workspace\n",
    "This workspace contains a tiny subset (128MB) of the full dataset available (12GB). Feel free to use this workspace to build your project, or to explore a smaller subset with Spark before deploying your cluster on the cloud. Instructions for setting up your Spark cluster is included in the last lesson of the Extracurricular Spark Course content.\n",
    "\n",
    "You can follow the steps below to guide your data analysis and model building portion of this project."
   ]
  },
  {
   "cell_type": "code",
   "execution_count": 1,
   "metadata": {},
   "outputs": [],
   "source": [
    "# import libraries\n",
    "from pyspark.sql import SparkSession    \n",
    "from pyspark.sql.functions import avg, col, concat, desc, explode, lit, min, max, split, udf\n",
    "from pyspark.sql.types import IntegerType, DateType\n",
    "from pyspark.sql import Window\n",
    "import datetime\n",
    "from time import time\n",
    "from pyspark.ml import Pipeline\n",
    "from pyspark.ml.classification import LogisticRegression, GBTClassifier, RandomForestClassifier\n",
    "from pyspark.ml.evaluation import MulticlassClassificationEvaluator\n",
    "from pyspark.ml.feature import StandardScaler, VectorAssembler\n",
    "from pyspark.ml.tuning import CrossValidator, ParamGridBuilder\n",
    "import matplotlib.pyplot as plt\n",
    "import pandas as pd\n",
    "import seaborn as sns\n",
    "\n",
    "%matplotlib inline"
   ]
  },
  {
   "cell_type": "code",
   "execution_count": 2,
   "metadata": {},
   "outputs": [],
   "source": [
    "# create a Spark session\n",
    "spark = SparkSession \\\n",
    "    .builder \\\n",
    "    .appName(\"Sparkify\") \\\n",
    "    .getOrCreate()"
   ]
  },
  {
   "cell_type": "markdown",
   "metadata": {},
   "source": [
    "# Load and Clean Dataset\n",
    "In this workspace, the mini-dataset file is `mini_sparkify_event_data.json`. Load and clean the dataset, checking for invalid or missing data - for example, records without userids or sessionids. "
   ]
  },
  {
   "cell_type": "code",
   "execution_count": 27,
   "metadata": {},
   "outputs": [
    {
     "data": {
      "text/plain": [
       "DataFrame[artist: string, auth: string, firstName: string, gender: string, itemInSession: bigint, lastName: string, length: double, level: string, location: string, method: string, page: string, registration: bigint, sessionId: bigint, song: string, status: bigint, ts: bigint, userAgent: string, userId: string]"
      ]
     },
     "execution_count": 27,
     "metadata": {},
     "output_type": "execute_result"
    }
   ],
   "source": [
    "df = spark.read.json('mini_sparkify_event_data.json')\n",
    "df.persist()"
   ]
  },
  {
   "cell_type": "code",
   "execution_count": 4,
   "metadata": {},
   "outputs": [
    {
     "data": {
      "text/plain": [
       "286500"
      ]
     },
     "execution_count": 4,
     "metadata": {},
     "output_type": "execute_result"
    }
   ],
   "source": [
    "df.count()"
   ]
  },
  {
   "cell_type": "code",
   "execution_count": 5,
   "metadata": {},
   "outputs": [
    {
     "name": "stdout",
     "output_type": "stream",
     "text": [
      "root\n",
      " |-- artist: string (nullable = true)\n",
      " |-- auth: string (nullable = true)\n",
      " |-- firstName: string (nullable = true)\n",
      " |-- gender: string (nullable = true)\n",
      " |-- itemInSession: long (nullable = true)\n",
      " |-- lastName: string (nullable = true)\n",
      " |-- length: double (nullable = true)\n",
      " |-- level: string (nullable = true)\n",
      " |-- location: string (nullable = true)\n",
      " |-- method: string (nullable = true)\n",
      " |-- page: string (nullable = true)\n",
      " |-- registration: long (nullable = true)\n",
      " |-- sessionId: long (nullable = true)\n",
      " |-- song: string (nullable = true)\n",
      " |-- status: long (nullable = true)\n",
      " |-- ts: long (nullable = true)\n",
      " |-- userAgent: string (nullable = true)\n",
      " |-- userId: string (nullable = true)\n",
      "\n"
     ]
    }
   ],
   "source": [
    "df.printSchema()"
   ]
  },
  {
   "cell_type": "code",
   "execution_count": 6,
   "metadata": {},
   "outputs": [
    {
     "data": {
      "text/html": [
       "<div>\n",
       "<style scoped>\n",
       "    .dataframe tbody tr th:only-of-type {\n",
       "        vertical-align: middle;\n",
       "    }\n",
       "\n",
       "    .dataframe tbody tr th {\n",
       "        vertical-align: top;\n",
       "    }\n",
       "\n",
       "    .dataframe thead th {\n",
       "        text-align: right;\n",
       "    }\n",
       "</style>\n",
       "<table border=\"1\" class=\"dataframe\">\n",
       "  <thead>\n",
       "    <tr style=\"text-align: right;\">\n",
       "      <th></th>\n",
       "      <th>artist</th>\n",
       "      <th>auth</th>\n",
       "      <th>firstName</th>\n",
       "      <th>gender</th>\n",
       "      <th>itemInSession</th>\n",
       "      <th>lastName</th>\n",
       "      <th>length</th>\n",
       "      <th>level</th>\n",
       "      <th>location</th>\n",
       "      <th>method</th>\n",
       "      <th>page</th>\n",
       "      <th>registration</th>\n",
       "      <th>sessionId</th>\n",
       "      <th>song</th>\n",
       "      <th>status</th>\n",
       "      <th>ts</th>\n",
       "      <th>userAgent</th>\n",
       "      <th>userId</th>\n",
       "    </tr>\n",
       "  </thead>\n",
       "  <tbody>\n",
       "    <tr>\n",
       "      <th>0</th>\n",
       "      <td>Martha Tilston</td>\n",
       "      <td>Logged In</td>\n",
       "      <td>Colin</td>\n",
       "      <td>M</td>\n",
       "      <td>50</td>\n",
       "      <td>Freeman</td>\n",
       "      <td>277.89016</td>\n",
       "      <td>paid</td>\n",
       "      <td>Bakersfield, CA</td>\n",
       "      <td>PUT</td>\n",
       "      <td>NextSong</td>\n",
       "      <td>1.538173e+12</td>\n",
       "      <td>29</td>\n",
       "      <td>Rockpools</td>\n",
       "      <td>200</td>\n",
       "      <td>1538352117000</td>\n",
       "      <td>Mozilla/5.0 (Windows NT 6.1; WOW64; rv:31.0) G...</td>\n",
       "      <td>30</td>\n",
       "    </tr>\n",
       "    <tr>\n",
       "      <th>1</th>\n",
       "      <td>Five Iron Frenzy</td>\n",
       "      <td>Logged In</td>\n",
       "      <td>Micah</td>\n",
       "      <td>M</td>\n",
       "      <td>79</td>\n",
       "      <td>Long</td>\n",
       "      <td>236.09424</td>\n",
       "      <td>free</td>\n",
       "      <td>Boston-Cambridge-Newton, MA-NH</td>\n",
       "      <td>PUT</td>\n",
       "      <td>NextSong</td>\n",
       "      <td>1.538332e+12</td>\n",
       "      <td>8</td>\n",
       "      <td>Canada</td>\n",
       "      <td>200</td>\n",
       "      <td>1538352180000</td>\n",
       "      <td>\"Mozilla/5.0 (Windows NT 6.1; WOW64) AppleWebK...</td>\n",
       "      <td>9</td>\n",
       "    </tr>\n",
       "    <tr>\n",
       "      <th>2</th>\n",
       "      <td>Adam Lambert</td>\n",
       "      <td>Logged In</td>\n",
       "      <td>Colin</td>\n",
       "      <td>M</td>\n",
       "      <td>51</td>\n",
       "      <td>Freeman</td>\n",
       "      <td>282.82730</td>\n",
       "      <td>paid</td>\n",
       "      <td>Bakersfield, CA</td>\n",
       "      <td>PUT</td>\n",
       "      <td>NextSong</td>\n",
       "      <td>1.538173e+12</td>\n",
       "      <td>29</td>\n",
       "      <td>Time For Miracles</td>\n",
       "      <td>200</td>\n",
       "      <td>1538352394000</td>\n",
       "      <td>Mozilla/5.0 (Windows NT 6.1; WOW64; rv:31.0) G...</td>\n",
       "      <td>30</td>\n",
       "    </tr>\n",
       "    <tr>\n",
       "      <th>3</th>\n",
       "      <td>Enigma</td>\n",
       "      <td>Logged In</td>\n",
       "      <td>Micah</td>\n",
       "      <td>M</td>\n",
       "      <td>80</td>\n",
       "      <td>Long</td>\n",
       "      <td>262.71302</td>\n",
       "      <td>free</td>\n",
       "      <td>Boston-Cambridge-Newton, MA-NH</td>\n",
       "      <td>PUT</td>\n",
       "      <td>NextSong</td>\n",
       "      <td>1.538332e+12</td>\n",
       "      <td>8</td>\n",
       "      <td>Knocking On Forbidden Doors</td>\n",
       "      <td>200</td>\n",
       "      <td>1538352416000</td>\n",
       "      <td>\"Mozilla/5.0 (Windows NT 6.1; WOW64) AppleWebK...</td>\n",
       "      <td>9</td>\n",
       "    </tr>\n",
       "    <tr>\n",
       "      <th>4</th>\n",
       "      <td>Daft Punk</td>\n",
       "      <td>Logged In</td>\n",
       "      <td>Colin</td>\n",
       "      <td>M</td>\n",
       "      <td>52</td>\n",
       "      <td>Freeman</td>\n",
       "      <td>223.60771</td>\n",
       "      <td>paid</td>\n",
       "      <td>Bakersfield, CA</td>\n",
       "      <td>PUT</td>\n",
       "      <td>NextSong</td>\n",
       "      <td>1.538173e+12</td>\n",
       "      <td>29</td>\n",
       "      <td>Harder Better Faster Stronger</td>\n",
       "      <td>200</td>\n",
       "      <td>1538352676000</td>\n",
       "      <td>Mozilla/5.0 (Windows NT 6.1; WOW64; rv:31.0) G...</td>\n",
       "      <td>30</td>\n",
       "    </tr>\n",
       "  </tbody>\n",
       "</table>\n",
       "</div>"
      ],
      "text/plain": [
       "             artist       auth firstName gender  itemInSession lastName  \\\n",
       "0    Martha Tilston  Logged In     Colin      M             50  Freeman   \n",
       "1  Five Iron Frenzy  Logged In     Micah      M             79     Long   \n",
       "2      Adam Lambert  Logged In     Colin      M             51  Freeman   \n",
       "3            Enigma  Logged In     Micah      M             80     Long   \n",
       "4         Daft Punk  Logged In     Colin      M             52  Freeman   \n",
       "\n",
       "      length level                        location method      page  \\\n",
       "0  277.89016  paid                 Bakersfield, CA    PUT  NextSong   \n",
       "1  236.09424  free  Boston-Cambridge-Newton, MA-NH    PUT  NextSong   \n",
       "2  282.82730  paid                 Bakersfield, CA    PUT  NextSong   \n",
       "3  262.71302  free  Boston-Cambridge-Newton, MA-NH    PUT  NextSong   \n",
       "4  223.60771  paid                 Bakersfield, CA    PUT  NextSong   \n",
       "\n",
       "   registration  sessionId                           song  status  \\\n",
       "0  1.538173e+12         29                      Rockpools     200   \n",
       "1  1.538332e+12          8                         Canada     200   \n",
       "2  1.538173e+12         29              Time For Miracles     200   \n",
       "3  1.538332e+12          8    Knocking On Forbidden Doors     200   \n",
       "4  1.538173e+12         29  Harder Better Faster Stronger     200   \n",
       "\n",
       "              ts                                          userAgent userId  \n",
       "0  1538352117000  Mozilla/5.0 (Windows NT 6.1; WOW64; rv:31.0) G...     30  \n",
       "1  1538352180000  \"Mozilla/5.0 (Windows NT 6.1; WOW64) AppleWebK...      9  \n",
       "2  1538352394000  Mozilla/5.0 (Windows NT 6.1; WOW64; rv:31.0) G...     30  \n",
       "3  1538352416000  \"Mozilla/5.0 (Windows NT 6.1; WOW64) AppleWebK...      9  \n",
       "4  1538352676000  Mozilla/5.0 (Windows NT 6.1; WOW64; rv:31.0) G...     30  "
      ]
     },
     "execution_count": 6,
     "metadata": {},
     "output_type": "execute_result"
    }
   ],
   "source": [
    "df.toPandas().head()"
   ]
  },
  {
   "cell_type": "code",
   "execution_count": 7,
   "metadata": {},
   "outputs": [
    {
     "data": {
      "text/plain": [
       "278154"
      ]
     },
     "execution_count": 7,
     "metadata": {},
     "output_type": "execute_result"
    }
   ],
   "source": [
    "df = df.filter(df['userId'] != '')\n",
    "df.count()"
   ]
  },
  {
   "cell_type": "code",
   "execution_count": 8,
   "metadata": {},
   "outputs": [
    {
     "data": {
      "text/plain": [
       "278154"
      ]
     },
     "execution_count": 8,
     "metadata": {},
     "output_type": "execute_result"
    }
   ],
   "source": [
    "df = df.dropna(how = \"any\", subset = [\"userId\", \"sessionId\"])\n",
    "df.count()"
   ]
  },
  {
   "cell_type": "markdown",
   "metadata": {},
   "source": [
    "From the above numbers, there is not many missing data in the dataset. As this is a stream of log data, there are not many cleaning issues."
   ]
  },
  {
   "cell_type": "markdown",
   "metadata": {},
   "source": [
    "# Exploratory Data Analysis\n",
    "When you're working with the full dataset, perform EDA by loading a small subset of the data and doing basic manipulations within Spark. In this workspace, you are already provided a small subset of data you can explore.\n",
    "\n",
    "### Define Churn\n",
    "\n",
    "Once you've done some preliminary analysis, create a column `Churn` to use as the label for your model. I suggest using the `Cancellation Confirmation` events to define your churn, which happen for both paid and free users. As a bonus task, you can also look into the `Downgrade` events.\n"
   ]
  },
  {
   "cell_type": "code",
   "execution_count": 9,
   "metadata": {},
   "outputs": [
    {
     "name": "stdout",
     "output_type": "stream",
     "text": [
      "+--------------------+\n",
      "|                page|\n",
      "+--------------------+\n",
      "|              Cancel|\n",
      "|    Submit Downgrade|\n",
      "|         Thumbs Down|\n",
      "|                Home|\n",
      "|           Downgrade|\n",
      "|         Roll Advert|\n",
      "|              Logout|\n",
      "|       Save Settings|\n",
      "|Cancellation Conf...|\n",
      "|               About|\n",
      "|            Settings|\n",
      "|     Add to Playlist|\n",
      "|          Add Friend|\n",
      "|            NextSong|\n",
      "|           Thumbs Up|\n",
      "|                Help|\n",
      "|             Upgrade|\n",
      "|               Error|\n",
      "|      Submit Upgrade|\n",
      "+--------------------+\n",
      "\n"
     ]
    }
   ],
   "source": [
    "#show all the distinct events by a user from the events\n",
    "df.select('page').distinct().show()"
   ]
  },
  {
   "cell_type": "markdown",
   "metadata": {},
   "source": [
    "When a customer wants to cancel a subscription, he/she would have to confirm the cancellation action. The event associated here would be 'Cancellation confirmation'. Also, there are high chances of a customer churning when they downgrade the subscription. So, we introduce two new columns to track the cancellation and downgrade events. \n",
    "\n",
    "Later, we mark the users who have ever downgraded or churned. "
   ]
  },
  {
   "cell_type": "code",
   "execution_count": 11,
   "metadata": {},
   "outputs": [],
   "source": [
    "# mark downgrade and churn events into two columns\n",
    "flag_downgrade_event = udf(lambda x: 1 if x == \"Submit Downgrade\" else 0, IntegerType())\n",
    "flag_churn_event = udf(lambda x: 1 if x == 'Cancellation Confirmation' else 0, IntegerType())\n",
    "\n",
    "df = df.withColumn(\"downgrade_event\", flag_downgrade_event(\"page\"))\\\n",
    "    .withColumn(\"cancellation_event\", flag_churn_event(\"page\"))"
   ]
  },
  {
   "cell_type": "code",
   "execution_count": 12,
   "metadata": {},
   "outputs": [],
   "source": [
    "#mark if a user has ever downgraded or cancelled\n",
    "user_frame = Window.partitionBy('userId')\n",
    "df = df.withColumn('downgrade', max('downgrade_event').over(user_frame)) \\\n",
    "        .withColumn('churn', max('cancellation_event').over(user_frame))"
   ]
  },
  {
   "cell_type": "code",
   "execution_count": 13,
   "metadata": {},
   "outputs": [
    {
     "data": {
      "text/html": [
       "<div>\n",
       "<style scoped>\n",
       "    .dataframe tbody tr th:only-of-type {\n",
       "        vertical-align: middle;\n",
       "    }\n",
       "\n",
       "    .dataframe tbody tr th {\n",
       "        vertical-align: top;\n",
       "    }\n",
       "\n",
       "    .dataframe thead th {\n",
       "        text-align: right;\n",
       "    }\n",
       "</style>\n",
       "<table border=\"1\" class=\"dataframe\">\n",
       "  <thead>\n",
       "    <tr style=\"text-align: right;\">\n",
       "      <th></th>\n",
       "      <th>artist</th>\n",
       "      <th>auth</th>\n",
       "      <th>firstName</th>\n",
       "      <th>gender</th>\n",
       "      <th>itemInSession</th>\n",
       "      <th>lastName</th>\n",
       "      <th>length</th>\n",
       "      <th>level</th>\n",
       "      <th>location</th>\n",
       "      <th>method</th>\n",
       "      <th>...</th>\n",
       "      <th>sessionId</th>\n",
       "      <th>song</th>\n",
       "      <th>status</th>\n",
       "      <th>ts</th>\n",
       "      <th>userAgent</th>\n",
       "      <th>userId</th>\n",
       "      <th>downgrade_event</th>\n",
       "      <th>cancellation_event</th>\n",
       "      <th>downgrade</th>\n",
       "      <th>churn</th>\n",
       "    </tr>\n",
       "  </thead>\n",
       "  <tbody>\n",
       "    <tr>\n",
       "      <th>0</th>\n",
       "      <td>Sleeping With Sirens</td>\n",
       "      <td>Logged In</td>\n",
       "      <td>Darianna</td>\n",
       "      <td>F</td>\n",
       "      <td>0</td>\n",
       "      <td>Carpenter</td>\n",
       "      <td>202.97098</td>\n",
       "      <td>free</td>\n",
       "      <td>Bridgeport-Stamford-Norwalk, CT</td>\n",
       "      <td>PUT</td>\n",
       "      <td>...</td>\n",
       "      <td>31</td>\n",
       "      <td>Captain Tyin Knots VS Mr Walkway (No Way)</td>\n",
       "      <td>200</td>\n",
       "      <td>1539003534000</td>\n",
       "      <td>\"Mozilla/5.0 (iPhone; CPU iPhone OS 7_1_2 like...</td>\n",
       "      <td>100010</td>\n",
       "      <td>0</td>\n",
       "      <td>0</td>\n",
       "      <td>0</td>\n",
       "      <td>0</td>\n",
       "    </tr>\n",
       "    <tr>\n",
       "      <th>1</th>\n",
       "      <td>Francesca Battistelli</td>\n",
       "      <td>Logged In</td>\n",
       "      <td>Darianna</td>\n",
       "      <td>F</td>\n",
       "      <td>1</td>\n",
       "      <td>Carpenter</td>\n",
       "      <td>196.54485</td>\n",
       "      <td>free</td>\n",
       "      <td>Bridgeport-Stamford-Norwalk, CT</td>\n",
       "      <td>PUT</td>\n",
       "      <td>...</td>\n",
       "      <td>31</td>\n",
       "      <td>Beautiful_ Beautiful (Album)</td>\n",
       "      <td>200</td>\n",
       "      <td>1539003736000</td>\n",
       "      <td>\"Mozilla/5.0 (iPhone; CPU iPhone OS 7_1_2 like...</td>\n",
       "      <td>100010</td>\n",
       "      <td>0</td>\n",
       "      <td>0</td>\n",
       "      <td>0</td>\n",
       "      <td>0</td>\n",
       "    </tr>\n",
       "    <tr>\n",
       "      <th>2</th>\n",
       "      <td>Brutha</td>\n",
       "      <td>Logged In</td>\n",
       "      <td>Darianna</td>\n",
       "      <td>F</td>\n",
       "      <td>2</td>\n",
       "      <td>Carpenter</td>\n",
       "      <td>263.13098</td>\n",
       "      <td>free</td>\n",
       "      <td>Bridgeport-Stamford-Norwalk, CT</td>\n",
       "      <td>PUT</td>\n",
       "      <td>...</td>\n",
       "      <td>31</td>\n",
       "      <td>She's Gone</td>\n",
       "      <td>200</td>\n",
       "      <td>1539003932000</td>\n",
       "      <td>\"Mozilla/5.0 (iPhone; CPU iPhone OS 7_1_2 like...</td>\n",
       "      <td>100010</td>\n",
       "      <td>0</td>\n",
       "      <td>0</td>\n",
       "      <td>0</td>\n",
       "      <td>0</td>\n",
       "    </tr>\n",
       "    <tr>\n",
       "      <th>3</th>\n",
       "      <td>None</td>\n",
       "      <td>Logged In</td>\n",
       "      <td>Darianna</td>\n",
       "      <td>F</td>\n",
       "      <td>3</td>\n",
       "      <td>Carpenter</td>\n",
       "      <td>NaN</td>\n",
       "      <td>free</td>\n",
       "      <td>Bridgeport-Stamford-Norwalk, CT</td>\n",
       "      <td>PUT</td>\n",
       "      <td>...</td>\n",
       "      <td>31</td>\n",
       "      <td>None</td>\n",
       "      <td>307</td>\n",
       "      <td>1539003933000</td>\n",
       "      <td>\"Mozilla/5.0 (iPhone; CPU iPhone OS 7_1_2 like...</td>\n",
       "      <td>100010</td>\n",
       "      <td>0</td>\n",
       "      <td>0</td>\n",
       "      <td>0</td>\n",
       "      <td>0</td>\n",
       "    </tr>\n",
       "    <tr>\n",
       "      <th>4</th>\n",
       "      <td>Josh Ritter</td>\n",
       "      <td>Logged In</td>\n",
       "      <td>Darianna</td>\n",
       "      <td>F</td>\n",
       "      <td>4</td>\n",
       "      <td>Carpenter</td>\n",
       "      <td>316.23791</td>\n",
       "      <td>free</td>\n",
       "      <td>Bridgeport-Stamford-Norwalk, CT</td>\n",
       "      <td>PUT</td>\n",
       "      <td>...</td>\n",
       "      <td>31</td>\n",
       "      <td>Folk Bloodbath</td>\n",
       "      <td>200</td>\n",
       "      <td>1539004195000</td>\n",
       "      <td>\"Mozilla/5.0 (iPhone; CPU iPhone OS 7_1_2 like...</td>\n",
       "      <td>100010</td>\n",
       "      <td>0</td>\n",
       "      <td>0</td>\n",
       "      <td>0</td>\n",
       "      <td>0</td>\n",
       "    </tr>\n",
       "  </tbody>\n",
       "</table>\n",
       "<p>5 rows × 22 columns</p>\n",
       "</div>"
      ],
      "text/plain": [
       "                  artist       auth firstName gender  itemInSession  \\\n",
       "0   Sleeping With Sirens  Logged In  Darianna      F              0   \n",
       "1  Francesca Battistelli  Logged In  Darianna      F              1   \n",
       "2                 Brutha  Logged In  Darianna      F              2   \n",
       "3                   None  Logged In  Darianna      F              3   \n",
       "4            Josh Ritter  Logged In  Darianna      F              4   \n",
       "\n",
       "    lastName     length level                         location method  ...    \\\n",
       "0  Carpenter  202.97098  free  Bridgeport-Stamford-Norwalk, CT    PUT  ...     \n",
       "1  Carpenter  196.54485  free  Bridgeport-Stamford-Norwalk, CT    PUT  ...     \n",
       "2  Carpenter  263.13098  free  Bridgeport-Stamford-Norwalk, CT    PUT  ...     \n",
       "3  Carpenter        NaN  free  Bridgeport-Stamford-Norwalk, CT    PUT  ...     \n",
       "4  Carpenter  316.23791  free  Bridgeport-Stamford-Norwalk, CT    PUT  ...     \n",
       "\n",
       "  sessionId                                       song  status             ts  \\\n",
       "0        31  Captain Tyin Knots VS Mr Walkway (No Way)     200  1539003534000   \n",
       "1        31               Beautiful_ Beautiful (Album)     200  1539003736000   \n",
       "2        31                                 She's Gone     200  1539003932000   \n",
       "3        31                                       None     307  1539003933000   \n",
       "4        31                             Folk Bloodbath     200  1539004195000   \n",
       "\n",
       "                                           userAgent  userId downgrade_event  \\\n",
       "0  \"Mozilla/5.0 (iPhone; CPU iPhone OS 7_1_2 like...  100010               0   \n",
       "1  \"Mozilla/5.0 (iPhone; CPU iPhone OS 7_1_2 like...  100010               0   \n",
       "2  \"Mozilla/5.0 (iPhone; CPU iPhone OS 7_1_2 like...  100010               0   \n",
       "3  \"Mozilla/5.0 (iPhone; CPU iPhone OS 7_1_2 like...  100010               0   \n",
       "4  \"Mozilla/5.0 (iPhone; CPU iPhone OS 7_1_2 like...  100010               0   \n",
       "\n",
       "  cancellation_event  downgrade  churn  \n",
       "0                  0          0      0  \n",
       "1                  0          0      0  \n",
       "2                  0          0      0  \n",
       "3                  0          0      0  \n",
       "4                  0          0      0  \n",
       "\n",
       "[5 rows x 22 columns]"
      ]
     },
     "execution_count": 13,
     "metadata": {},
     "output_type": "execute_result"
    }
   ],
   "source": [
    "df.toPandas().head(5)"
   ]
  },
  {
   "cell_type": "markdown",
   "metadata": {},
   "source": [
    "From the above dataframe, the column 'churn' will be our main focus. It will be used for the data exploration and as a label for our data models."
   ]
  },
  {
   "cell_type": "markdown",
   "metadata": {},
   "source": [
    "### Explore Data\n",
    "Once you've defined churn, perform some exploratory data analysis to observe the behavior for users who stayed vs users who churned. You can start by exploring aggregates on these two groups of users, observing how much of a specific action they experienced per a certain time unit or number of songs played."
   ]
  },
  {
   "cell_type": "markdown",
   "metadata": {},
   "source": [
    "First, we will try to explore the overall data without using the churn column. This will give an idea of user demography and general behaviour while using the app."
   ]
  },
  {
   "cell_type": "code",
   "execution_count": 15,
   "metadata": {},
   "outputs": [
    {
     "name": "stdout",
     "output_type": "stream",
     "text": [
      "+------+------+\n",
      "|gender| count|\n",
      "+------+------+\n",
      "|     F|154578|\n",
      "|     M|123576|\n",
      "+------+------+\n",
      "\n"
     ]
    }
   ],
   "source": [
    "# Count of events by gender\n",
    "df.groupBy('gender').count().show()"
   ]
  },
  {
   "cell_type": "code",
   "execution_count": 17,
   "metadata": {},
   "outputs": [
    {
     "data": {
      "image/png": "[encoded data removed]",
      "text/plain": [
       "<matplotlib.figure.Figure at 0x7f5f73227a20>"
      ]
     },
     "metadata": {
      "needs_background": "light"
     },
     "output_type": "display_data"
    }
   ],
   "source": [
    "# Retrieve counts of events\n",
    "page_counts = pd.DataFrame(\n",
    "    df.groupBy('page').count().collect(), columns=[\"page\", \"page_count\"]\n",
    "    ).sort_values(by='page_count', ascending=False).reset_index()\n",
    "\n",
    "# Instantiate plot\n",
    "fig, ax = plt.subplots(1, 1, figsize=(11, 7))\n",
    "\n",
    "# Plot bar chart\n",
    "sns.barplot(data=page_counts, y='page', x='page_count', ax=ax, color='crimson')\n",
    "\n",
    "# Annotate with count values\n",
    "max_count = page_counts['page_count'].max()\n",
    "for i, v in page_counts.iterrows():\n",
    "    label = v.page_count\n",
    "    ax.text(v.page_count+(max_count*0.01), i+0.15, label, color='black')\n",
    "\n",
    "# Format chart\n",
    "ax.set_ylabel(\"Page\")\n",
    "ax.set_xlabel(\"Count\")\n",
    "ax.set_title(\"Page Counts\", fontsize=14)\n",
    "\n",
    "ax.spines['top'].set_visible(False)\n",
    "ax.spines['right'].set_visible(False)\n",
    "\n",
    "plt.tight_layout()\n",
    "plt.show()"
   ]
  },
  {
   "cell_type": "markdown",
   "metadata": {},
   "source": [
    "The above bar chart conveys lot of things.\n",
    "\n",
    "1. Not many users in the dataset have churned as there are only 52 cancellation confirmations.\n",
    "2. Skipping the track is the most popular thing users do. This could mean user not liking the content and indicate churn. So we have to include this factor in our model later.\n",
    "3. There is lot of skew in the data. This could be because the data is sampled from a larger set and the distribution is not captured correctly.\n",
    "4. I am going to consider the following events as an indication of churn. Later, we build features based on these events.\n",
    "   - Thumbs up and Thumbs down events could indicate user interaction with the app.\n",
    "   - When users like the content, they add the songs to a playlist and users will stay longer from changing plans as they would lose their playlist.\n",
    "   - Sharing about the app to your friends and adding them to the app could be big a net promoter indicator.\n",
    "   - Visiting help pages and facing error messages can make users dislike the app\n",
    "\n",
    "\n",
    "Now, we will include churn columns into our analysis. We can check usage and behaviour of churned users as compared to the loyal ones!"
   ]
  },
  {
   "cell_type": "code",
   "execution_count": 18,
   "metadata": {},
   "outputs": [
    {
     "name": "stdout",
     "output_type": "stream",
     "text": [
      "+-----+------------------+\n",
      "|churn|       avg(length)|\n",
      "+-----+------------------+\n",
      "|    1|248.63279564406218|\n",
      "|    0|249.20913538880816|\n",
      "+-----+------------------+\n",
      "\n"
     ]
    }
   ],
   "source": [
    "#listening time of churned and non-churned users\n",
    "df.groupBy('churn').avg('length').show()"
   ]
  },
  {
   "cell_type": "markdown",
   "metadata": {},
   "source": [
    "Average listening time of both categories is the same. So, we do not have to worry about this feature."
   ]
  },
  {
   "cell_type": "code",
   "execution_count": 21,
   "metadata": {},
   "outputs": [
    {
     "name": "stdout",
     "output_type": "stream",
     "text": [
      "+-----+-----+\n",
      "|churn|count|\n",
      "+-----+-----+\n",
      "|    1|   52|\n",
      "|    0|  173|\n",
      "+-----+-----+\n",
      "\n"
     ]
    }
   ],
   "source": [
    "df.where('page=\"NextSong\"')\\\n",
    "    .select(['userId', 'churn']).distinct()\\\n",
    "    .groupBy('churn').count().show()"
   ]
  },
  {
   "cell_type": "markdown",
   "metadata": {},
   "source": [
    "The above query actually looks into the next song event and clubs all those events into one and compares churn and non-churned users. There is no interesting pattern here so I ignore this feature for my modelling."
   ]
  },
  {
   "cell_type": "code",
   "execution_count": 23,
   "metadata": {},
   "outputs": [
    {
     "data": {
      "image/png": "[encoded data removed]",
      "text/plain": [
       "<matplotlib.figure.Figure at 0x7f5f77c45390>"
      ]
     },
     "metadata": {
      "needs_background": "light"
     },
     "output_type": "display_data"
    }
   ],
   "source": [
    "session_df = df.select('userId', 'churn', 'sessionId')\\\n",
    "        .distinct().groupBy(['userId', 'churn']).count().toPandas()\n",
    "\n",
    "# compare two groups of users\n",
    "grid = sns.FacetGrid(session_df, col=\"churn\", sharey=False)\n",
    "grid.map(plt.hist, \"count\");"
   ]
  },
  {
   "cell_type": "markdown",
   "metadata": {},
   "source": [
    "The number of sessions for churned users is very less which means loyal users do not churn."
   ]
  },
  {
   "cell_type": "code",
   "execution_count": 24,
   "metadata": {},
   "outputs": [
    {
     "data": {
      "image/png": "[encoded data removed]",
      "text/plain": [
       "<matplotlib.figure.Figure at 0x7f5f717387f0>"
      ]
     },
     "metadata": {
      "needs_background": "light"
     },
     "output_type": "display_data"
    }
   ],
   "source": [
    "level_churn = df.dropDuplicates([\"userId\", \"level\"])\\\n",
    "        .groupby([\"churn\", \"level\"]).count().sort(\"churn\").toPandas()\n",
    "\n",
    "ax = sns.barplot(x='churn', y='count', hue='level', data=level_churn)\n",
    "plt.xlabel('Customer churn status')\n",
    "plt.ylabel('Count')\n",
    "plt.legend(title='Level', loc='best')\n",
    "plt.title('Churn rates split by paid/free level')\n",
    "sns.despine(ax=ax);"
   ]
  },
  {
   "cell_type": "markdown",
   "metadata": {},
   "source": [
    "From the above comparison bar chart, it is interesting to see the free tier users are cancelling more than paid tier users."
   ]
  },
  {
   "cell_type": "code",
   "execution_count": 25,
   "metadata": {},
   "outputs": [
    {
     "data": {
      "image/png": "[encoded data removed]",
      "text/plain": [
       "<matplotlib.figure.Figure at 0x7f5f7ff03ba8>"
      ]
     },
     "metadata": {
      "needs_background": "light"
     },
     "output_type": "display_data"
    }
   ],
   "source": [
    "df_filtered = df.filter((df.page != 'Cancel') &(df.page != 'Cancellation Confirmation'))\n",
    "page_churn = df_filtered.dropDuplicates([\"userId\", \"page\"])\\\n",
    "        .groupby([\"churn\", \"page\"]).count().sort(\"churn\").toPandas()\n",
    "\n",
    "ax = sns.barplot(x='page', y='count', hue='churn', data=page_churn)\n",
    "plt.xlabel('Pages customers visited')\n",
    "plt.ylabel('Count')\n",
    "plt.legend(title='Churn', loc='upper right')\n",
    "plt.title('Churn rates split by page visited')\n",
    "ax.set_xticklabels(ax.get_xticklabels(), rotation=90)\n",
    "sns.despine(ax=ax);"
   ]
  },
  {
   "cell_type": "markdown",
   "metadata": {},
   "source": [
    "The above graph clearly indicates very less number of churned users in the dataset. This means we cannot completely believe the churned users behaviour. However, non-churned users give us lot of information. We could always learn from the behaviour of current users and work on improvements for users."
   ]
  },
  {
   "cell_type": "markdown",
   "metadata": {},
   "source": [
    "# Feature Engineering\n",
    "Once you've familiarized yourself with the data, build out the features you find promising to train your model on. To work with the full dataset, you can follow the following steps.\n",
    "- Write a script to extract the necessary features from the smaller subset of data\n",
    "- Ensure that your script is scalable, using the best practices discussed in Lesson 3\n",
    "- Try your script on the full data set, debugging your script if necessary\n",
    "\n",
    "If you are working in the classroom workspace, you can just extract features based on the small subset of data contained here. Be sure to transfer over this work to the larger dataset when you work on your Spark cluster."
   ]
  },
  {
   "cell_type": "markdown",
   "metadata": {},
   "source": [
    "We will next engineer a new dataframe for the modelling part based on each unique user of the application. The reason behind creating these features is based on the data exploration we did above. Following are the features we would create in the method below.\n",
    "\n",
    "\n",
    "- Number of total songs a user has listened to (total_songs)\n",
    "- Paid subscription (paid_tier)\n",
    "- Free subscription (free_tier)\n",
    "- Average number of songs listened to by a user (avg_songs_per_session)\n",
    "- Number of visits to a help page (help_visits)\n",
    "- Number of times a user has added a song to playlist (add_to_playlist)\n",
    "- Subscription Lifetime of a customer (lifetime)\n",
    "- Number of errors encountered  (errors_faced)\n",
    "- Number of friends added (friends_added_count)\n",
    "- Number of thumbs up event (thumbs_up_count)\n",
    "- Number of thumbs down event (thumbs_down_count)\n",
    "- User churn based on the cancellation confirmation event (label)"
   ]
  },
  {
   "cell_type": "code",
   "execution_count": 28,
   "metadata": {},
   "outputs": [],
   "source": [
    "def feature_engineer(df):\n",
    "    '''\n",
    "    Engineer a dataframe which accumulates different events based on userId\n",
    "    \n",
    "    INPUT: df - original log events dataframe loaded from S3 bucket\n",
    "    \n",
    "    OUTPUT: data - engineered dataframe based on unique users\n",
    "    '''\n",
    "    #clean the dataset\n",
    "    df = df.filter(df['userId'] != '')\n",
    "    df = df.dropna(how = \"any\", subset = [\"userId\", \"sessionId\"])\n",
    "    \n",
    "    #define churn events\n",
    "    flag_downgrade_event = udf(lambda x: 1 if x == \"Submit Downgrade\" else 0, IntegerType())\n",
    "    flag_churn_event = udf(lambda x: 1 if x == 'Cancellation Confirmation' else 0, IntegerType())\n",
    "    \n",
    "    #mark downgrade and churn event on each activity\n",
    "    df = df.withColumn(\"downgrade_event\", flag_downgrade_event(\"page\"))\\\n",
    "            .withColumn(\"cancellation_event\", flag_churn_event(\"page\"))\n",
    "    \n",
    "    #label churn and downgrade event upon users\n",
    "    user_frame = Window.partitionBy('userId')\n",
    "    df = df.withColumn('downgrade', max('downgrade_event').over(user_frame)) \\\n",
    "            .withColumn('churn', max('cancellation_event').over(user_frame))\n",
    "    \n",
    "    #engineer features for modelling\n",
    "    \n",
    "    #udfs for engineering columns \n",
    "    free = udf(lambda x: int(x=='free'), IntegerType())\n",
    "    paid = udf(lambda x: int(x=='paid'), IntegerType())\n",
    "    get_day = udf(lambda x: datetime.datetime.fromtimestamp(x/1000), DateType())\n",
    "    \n",
    "    #generating featuring grouped by users\n",
    "    total_songs_listened = df \\\n",
    "        .select('userID','song') \\\n",
    "        .groupBy('userID') \\\n",
    "        .count() \\\n",
    "        .withColumnRenamed('count', 'total_songs')\n",
    "    \n",
    "    thumbs_up_count = df \\\n",
    "        .select('userID','page') \\\n",
    "        .where(df.page == 'Thumbs Up') \\\n",
    "        .groupBy('userID') \\\n",
    "        .count() \\\n",
    "        .withColumnRenamed('count', 'thumbs_up_count') \n",
    "\n",
    "    thumbs_down_count = df \\\n",
    "        .select('userID','page') \\\n",
    "        .where(df.page == 'Thumbs Down') \\\n",
    "        .groupBy('userID') \\\n",
    "        .count() \\\n",
    "        .withColumnRenamed('count', 'thumbs_down_count')\n",
    "    \n",
    "    friends_added = df.filter(df.page=='Add Friend')\\\n",
    "        .select('userId', 'page')\\\n",
    "        .groupBy('userId').count()\\\n",
    "        .withColumnRenamed('count', 'friends_added_count')\n",
    "    \n",
    "    errors_encountered = df.filter(df.page=='Error')\\\n",
    "        .select('userId', 'page', 'ts', 'length')\\\n",
    "        .withColumn('date', get_day(col('ts')))\\\n",
    "        .groupBy('userId', 'date').agg({'page':'count'})\\\n",
    "        .groupBy('userId').mean()\\\n",
    "        .withColumnRenamed('avg(count(page))', 'errors_faced')\n",
    "    \n",
    "    customer_lifetime = df \\\n",
    "        .select('userId','registration','ts') \\\n",
    "        .withColumn('lifetime',(df.ts-df.registration)) \\\n",
    "        .groupBy('userId') \\\n",
    "        .agg({'lifetime':'max'}) \\\n",
    "        .withColumnRenamed('max(lifetime)','lifetime') \\\n",
    "        .select('userId', (col('lifetime')/1000/3600/24).alias('lifetime'))\n",
    "    \n",
    "    playlist_creation = df \\\n",
    "        .select('userID','page') \\\n",
    "        .where(df.page == 'Add to Playlist') \\\n",
    "        .groupBy('userID') \\\n",
    "        .count() \\\n",
    "        .withColumnRenamed('count', 'add_to_playlist')\n",
    "    \n",
    "    help_visits = df.filter(df.page=='Help')\\\n",
    "        .select('userId', 'page', 'ts', 'length')\\\n",
    "        .withColumn('date', get_day(col('ts')))\\\n",
    "        .groupBy('userId', 'date').agg({'page':'count'})\\\n",
    "        .groupBy('userId').mean()\\\n",
    "        .withColumnRenamed('avg(count(page))', 'help_visits')\n",
    "    \n",
    "    avg_songs_per_session = df.where('page == \"NextSong\"') \\\n",
    "        .groupby(['userId', 'sessionId']) \\\n",
    "        .count() \\\n",
    "        .groupby(['userId']) \\\n",
    "        .agg({'count':'avg'}) \\\n",
    "        .withColumnRenamed('avg(count)', 'avg_songs_per_session')\n",
    "    \n",
    "    user_level = df.select('userId', 'level')\\\n",
    "        .where((df.level=='free')|(df.level=='paid'))\\\n",
    "        .dropDuplicates()\\\n",
    "        .withColumn('free_tier', free('level'))\\\n",
    "        .withColumn('paid_tier', paid('level')).drop('level')\n",
    "    \n",
    "    label = df \\\n",
    "        .select('userId', col('churn').alias('label'))\\\n",
    "        .dropDuplicates()\n",
    "    \n",
    "    #create new dataframe to be used for modelling\n",
    "    data = total_songs_listened.join(label, on='userId')\\\n",
    "        .join(user_level, on='userId')\\\n",
    "        .join(avg_songs_per_session, on='userId')\\\n",
    "        .join(help_visits, on='userId')\\\n",
    "        .join(playlist_creation, on='userId')\\\n",
    "        .join(customer_lifetime, on='userId')\\\n",
    "        .join(errors_encountered, on='userId')\\\n",
    "        .join(friends_added, on='userId')\\\n",
    "        .join(thumbs_down_count, on='userId')\\\n",
    "        .join(thumbs_up_count, on='userId')\\\n",
    "        .drop('userId')\n",
    "    \n",
    "    return data"
   ]
  },
  {
   "cell_type": "code",
   "execution_count": 29,
   "metadata": {},
   "outputs": [
    {
     "data": {
      "text/plain": [
       "[Row(total_songs=2464, label=1, free_tier=0, paid_tier=1, avg_songs_per_session=211.1, help_visits=1.7142857142857142, add_to_playlist=52, lifetime=19.455844907407407, errors_faced=1.0, friends_added_count=28, thumbs_down_count=21, thumbs_up_count=100),\n",
       " Row(total_songs=4825, label=0, free_tier=0, paid_tier=1, avg_songs_per_session=145.67857142857142, help_visits=1.4375, add_to_playlist=118, lifetime=131.55591435185184, errors_faced=1.2, friends_added_count=74, thumbs_down_count=41, thumbs_up_count=171)]"
      ]
     },
     "execution_count": 29,
     "metadata": {},
     "output_type": "execute_result"
    }
   ],
   "source": [
    "df = feature_engineer(df)\n",
    "df.take(2)"
   ]
  },
  {
   "cell_type": "markdown",
   "metadata": {},
   "source": [
    "# Modeling\n",
    "Split the full dataset into train, test, and validation sets. Test out several of the machine learning methods you learned. Evaluate the accuracy of the various models, tuning parameters as necessary. Determine your winning model based on test accuracy and report results on the validation set. Since the churned users are a fairly small subset, I suggest using F1 score as the metric to optimize."
   ]
  },
  {
   "cell_type": "code",
   "execution_count": 30,
   "metadata": {},
   "outputs": [],
   "source": [
    "def feature_scale(df):\n",
    "    '''\n",
    "    Vectorise and scale the required features and returns the transformed data\n",
    "    \n",
    "    INPUT: df - feature enigneered dataframe\n",
    "    OUTPUT: data - transformed features as a dataframe\n",
    "    '''\n",
    "    #vectorise features without the label column\n",
    "    features = df.drop('label').columns\n",
    "    assembler = VectorAssembler(inputCols=features, outputCol=\"NumFeatures\")\n",
    "    data=assembler.transform(df)\n",
    "    \n",
    "    #scale the data with standard deviation\n",
    "    scaler = StandardScaler(inputCol=\"NumFeatures\", outputCol=\"features\", withStd=True)\n",
    "    scalerModel = scaler.fit(data)\n",
    "    data = scalerModel.transform(data)\n",
    "    \n",
    "    return data"
   ]
  },
  {
   "cell_type": "code",
   "execution_count": 31,
   "metadata": {},
   "outputs": [
    {
     "data": {
      "text/plain": [
       "[Row(total_songs=2464, label=1, free_tier=0, paid_tier=1, avg_songs_per_session=211.1, help_visits=1.7142857142857142, add_to_playlist=52, lifetime=19.455844907407407, errors_faced=1.0, friends_added_count=28, thumbs_down_count=21, thumbs_up_count=100, NumFeatures=DenseVector([2464.0, 0.0, 1.0, 211.1, 1.7143, 52.0, 19.4558, 1.0, 28.0, 21.0, 100.0]), features=DenseVector([1.6104, 0.0, 1.9953, 5.3986, 3.7338, 1.3773, 0.4916, 4.0415, 1.1572, 1.4057, 1.2925])),\n",
       " Row(total_songs=4825, label=0, free_tier=0, paid_tier=1, avg_songs_per_session=145.67857142857142, help_visits=1.4375, add_to_playlist=118, lifetime=131.55591435185184, errors_faced=1.2, friends_added_count=74, thumbs_down_count=41, thumbs_up_count=171, NumFeatures=DenseVector([4825.0, 0.0, 1.0, 145.6786, 1.4375, 118.0, 131.5559, 1.2, 74.0, 41.0, 171.0]), features=DenseVector([3.1534, 0.0, 1.9953, 3.7255, 3.1309, 3.1255, 3.3238, 4.8498, 3.0582, 2.7445, 2.2102]))]"
      ]
     },
     "execution_count": 31,
     "metadata": {},
     "output_type": "execute_result"
    }
   ],
   "source": [
    "data = feature_scale(df)\n",
    "data.take(2)"
   ]
  },
  {
   "cell_type": "code",
   "execution_count": 32,
   "metadata": {},
   "outputs": [],
   "source": [
    "#allocate 60% for training and 20% each for validation and testing\n",
    "train, rest = data.randomSplit([0.6, 0.4], seed=42)\n",
    "validation, test = rest.randomSplit([0.5,0.5], seed=42)"
   ]
  },
  {
   "cell_type": "code",
   "execution_count": 33,
   "metadata": {},
   "outputs": [],
   "source": [
    "def train_and_evaluate_model(classifier):\n",
    "    '''\n",
    "    Trains the data using cross validator with a param grid and evaluate the data using F1 score\n",
    "    The method also calculates time for training and accuracy\n",
    "    \n",
    "    Input: classfier - initialised classifier variable for cross validator\n",
    "    \n",
    "    '''\n",
    "    f1 = MulticlassClassificationEvaluator(metricName='f1')\n",
    "    param_grid = ParamGridBuilder().build()\n",
    "    cross_validator = CrossValidator(estimator=classifier,\n",
    "                          evaluator=f1, \n",
    "                          estimatorParamMaps=param_grid,\n",
    "                          numFolds=3)\n",
    "    start = time()\n",
    "    model = cross_validator.fit(train)\n",
    "    end = time()\n",
    "    model.avgMetrics\n",
    "    print('The training process took {} seconds'.format(end - start))\n",
    "    results = model.transform(validation)\n",
    "    evaluator = MulticlassClassificationEvaluator(predictionCol=\"prediction\")\n",
    "    print('Metrics:')\n",
    "    print('Accuracy: {}'.format(evaluator.evaluate(results, {evaluator.metricName: \"accuracy\"})))\n",
    "    print('F-1 Score:{}'.format(evaluator.evaluate(results, {evaluator.metricName: \"f1\"})))"
   ]
  },
  {
   "cell_type": "markdown",
   "metadata": {},
   "source": [
    "Since we have label column to classify/predict, let us train our model with three classifiers: \n",
    "As it is a simple case of predicting if a set of variable class or not, we first look at Logistic Regression.\n",
    "\n",
    "Then, as we have continuous and categorical variables, we choose two popular decision tree classifiers such as Gradient Boosted Trees(GBT) and RandomForestClassifier."
   ]
  },
  {
   "cell_type": "code",
   "execution_count": 34,
   "metadata": {},
   "outputs": [
    {
     "name": "stdout",
     "output_type": "stream",
     "text": [
      "The training process took 492.47389030456543 seconds\n",
      "Metrics:\n",
      "Accuracy: 0.7368421052631579\n",
      "F-1 Score:0.6640795537230172\n"
     ]
    }
   ],
   "source": [
    "lr = LogisticRegression(maxIter=10)\n",
    "train_and_evaluate_model(lr)"
   ]
  },
  {
   "cell_type": "code",
   "execution_count": 35,
   "metadata": {},
   "outputs": [
    {
     "name": "stdout",
     "output_type": "stream",
     "text": [
      "The training process took 1284.7099123001099 seconds\n",
      "Metrics:\n",
      "Accuracy: 0.9473684210526315\n",
      "F-1 Score:0.9459507354244197\n"
     ]
    }
   ],
   "source": [
    "gbt = GBTClassifier(maxIter=10,seed=42)\n",
    "train_and_evaluate_model(gbt)"
   ]
  },
  {
   "cell_type": "code",
   "execution_count": 36,
   "metadata": {},
   "outputs": [
    {
     "name": "stdout",
     "output_type": "stream",
     "text": [
      "The training process took 430.53546142578125 seconds\n",
      "Metrics:\n",
      "Accuracy: 0.8947368421052632\n",
      "F-1 Score:0.8879699248120301\n"
     ]
    }
   ],
   "source": [
    "rf = RandomForestClassifier(numTrees=10)\n",
    "train_and_evaluate_model(rf)"
   ]
  },
  {
   "cell_type": "markdown",
   "metadata": {},
   "source": [
    "#### Choosing the best model"
   ]
  },
  {
   "cell_type": "markdown",
   "metadata": {},
   "source": [
    "From the above results, Logistic Regression does not have a good F1 score.\n",
    "\n",
    "Out of the three classifiers, Gradient Boosting Trees(GBT) classifier has an accuracy and F1 score of 94%. Hence, we will fit the same model without cross validator. \n",
    "\n",
    "We will do this to explore the methods inside GBT model such as feature importance. This will give us an idea of what features are very important for a user to churn."
   ]
  },
  {
   "cell_type": "code",
   "execution_count": 37,
   "metadata": {},
   "outputs": [],
   "source": [
    "gbt = GBTClassifier(maxIter=10,seed=42)\n",
    "gbt_model = gbt.fit(train)\n",
    "results_final = gbt_model.transform(test)"
   ]
  },
  {
   "cell_type": "code",
   "execution_count": 44,
   "metadata": {},
   "outputs": [
    {
     "name": "stdout",
     "output_type": "stream",
     "text": [
      "Metrics:\n",
      "Accuracy: 0.9285714285714286\n",
      "F-1 Score:0.9360119047619048\n"
     ]
    }
   ],
   "source": [
    "evaluator = MulticlassClassificationEvaluator(predictionCol=\"prediction\")\n",
    "print('Metrics:')\n",
    "print('Accuracy: {}'.format(evaluator.evaluate(results_final, {evaluator.metricName: \"accuracy\"})))\n",
    "print('F-1 Score:{}'.format(evaluator.evaluate(results_final, {evaluator.metricName: \"f1\"})))"
   ]
  },
  {
   "cell_type": "code",
   "execution_count": 42,
   "metadata": {},
   "outputs": [
    {
     "name": "stdout",
     "output_type": "stream",
     "text": [
      "['total_songs', 'avg_songs_per_session', 'help_visits', 'add_to_playlist', 'lifetime', 'errors_faced', 'friends_added_count', 'thumbs_down_count', 'thumbs_up_count']\n",
      "\n",
      "[0.20183923212402086, 0.1754304535264815, 0.18872370914437794, 0.028383743466587695, 0.15480108826452557, 0.012797960255266545, 0.06418630404437344, 0.1558705485076221, 0.017966960666744324]\n"
     ]
    }
   ],
   "source": [
    "# Feature importance\n",
    "feature_ind = gbt_model.featureImportances.indices.tolist()\n",
    "features = df.drop('label').columns\n",
    "feature_name = [features[ind] for ind in feature_ind]\n",
    "feature_coef = gbt_model.featureImportances.values.tolist()\n",
    "print(feature_name)\n",
    "print()\n",
    "print(feature_coef)"
   ]
  },
  {
   "cell_type": "markdown",
   "metadata": {},
   "source": [
    "#### Conclusion\n",
    "\n",
    "When GBT is tested over the testing dataset, we get the accuracy around 92% and F1 score of 93%. Hence, the model is performing well with this dataset. The only drawback is the time(resources) taken to train this model. This is because of the nature of Gradient Boosted Trees which runs iteratively to minimize the loss function. Since, this is a small subset of the big dataset, I still choose to go with Gradient Boosted Trees.\n",
    "\n",
    "Regarding our problem of predicting the churn of users, it would be better for the company to look into the important features derived from GBTs such as total songs listened, thumbs up event and minimizing help page visits or giving good help articles would actually prevent the users from churning.\n",
    "\n",
    "\n",
    "##### Improvement\n",
    "Since GBTs have a tendency to overfit, I would want to confirm the accuracy with the much bigger dataset. If overfitting is the case, the next resort would be Random Forest Classifier which has 89% accuracy and much less time to train than GBTs. As a result, in order to confirm my assumptions, it is good to train with a big dataset.\n",
    "\n",
    "Also, when it comes to predicting churn for music apps, it would also be good to consider time pattern of app usage. For example, at what time, day, or part of the year users use the app a lot. When the log data is given for an entire year, this information would be much more useful for predicting churn.\n",
    "\n",
    "\n",
    "##### Reflection\n",
    "This project had a steep learning curve. I got to implement all things I have learned so far in my course. On top of that, I got to work on Spark which is used for real world problems of Big Data. Spark initially was difficult for me because of the syntax compared to Pandas and Sklearn library. Later, when I hosted the script in AWS EMR cluster to train GBT classifier, I understood the importance of RDDs and got familiarised with Spark syntax.\n",
    "\n",
    "Finally, I would like to acknowledge Udacity for the great materials provided throughout this nanodegree and the extra curricular lessons. Most of the pyspark ml code is adopted from additional Spark lessons. In addtion to that, following links helped me in doing this project.\n",
    "\n",
    "References:\n",
    "\n",
    "1.https://knockdata.github.io/spark-window-function/\n",
    "\n",
    "2.https://www.analyticsvidhya.com/blog/2016/02/complete-guide-parameter-tuning-gradient-boosting-gbm-python/\n",
    "\n",
    "3.https://stackabuse.com/gradient-boosting-classifiers-in-python-with-scikit-learn/\n",
    "\n",
    "4.https://spark.apache.org/docs/2.2.0/ml-classification-regression.html#gradient-boosted-trees-gbts\n",
    "\n",
    "5.https://stackabuse.com/gradient-boosting-classifiers-in-python-with-scikit-learn/\n"
   ]
  },
  {
   "cell_type": "markdown",
   "metadata": {},
   "source": [
    "# Final Steps\n",
    "Clean up your code, adding comments and renaming variables to make the code easier to read and maintain. Refer to the Spark Project Overview page and Data Scientist Capstone Project Rubric to make sure you are including all components of the capstone project and meet all expectations. Remember, this includes thorough documentation in a README file in a Github repository, as well as a web app or blog post."
   ]
  }
 ],
 "metadata": {
  "kernelspec": {
   "display_name": "Python 3",
   "language": "python",
   "name": "python3"
  },
  "language_info": {
   "codemirror_mode": {
    "name": "ipython",
    "version": 3
   },
   "file_extension": ".py",
   "mimetype": "text/x-python",
   "name": "python",
   "nbconvert_exporter": "python",
   "pygments_lexer": "ipython3",
   "version": "3.6.3"
  }
 },
 "nbformat": 4,
 "nbformat_minor": 2
}
